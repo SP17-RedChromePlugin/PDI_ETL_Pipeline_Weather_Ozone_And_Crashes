{
 "cells": [
  {
   "cell_type": "markdown",
   "id": "99a6220d",
   "metadata": {},
   "source": [
    "# SQL Command Runner"
   ]
  },
  {
   "cell_type": "markdown",
   "id": "8d49c69e",
   "metadata": {},
   "source": [
    "These commands are run in the pipeline already, but this is for seperate execution if desired."
   ]
  },
  {
   "cell_type": "code",
   "execution_count": 2,
   "id": "f715b2b8",
   "metadata": {},
   "outputs": [],
   "source": [
    "import sqlite3"
   ]
  },
  {
   "cell_type": "code",
   "execution_count": 3,
   "id": "d33bb13f",
   "metadata": {},
   "outputs": [],
   "source": [
    "def run_sql_script(sqlite_db, sql_file):\n",
    "\n",
    "    conn = sqlite3.connect(sqlite_db)\n",
    "    cursor = conn.cursor()\n",
    "\n",
    "    with open(sql_file, 'r') as file:\n",
    "        sql = file.read()\n",
    "    \n",
    "    try:\n",
    "        cursor.executescript(sql)\n",
    "        conn.commit()\n",
    "    except sqlite3.Error as e:\n",
    "        print(\"Error running SQL script: \", e)\n",
    "        \n",
    "    conn.close()"
   ]
  },
  {
   "cell_type": "markdown",
   "id": "988665a7",
   "metadata": {},
   "source": [
    "### Creating Crash Weather View"
   ]
  },
  {
   "cell_type": "code",
   "execution_count": null,
   "id": "5210de4d",
   "metadata": {},
   "outputs": [],
   "source": [
    "run_sql_script(\"crashinfo.db\", \"SQL/create_views.sql\")"
   ]
  }
 ],
 "metadata": {
  "kernelspec": {
   "display_name": "Python 3",
   "language": "python",
   "name": "python3"
  },
  "language_info": {
   "codemirror_mode": {
    "name": "ipython",
    "version": 3
   },
   "file_extension": ".py",
   "mimetype": "text/x-python",
   "name": "python",
   "nbconvert_exporter": "python",
   "pygments_lexer": "ipython3",
   "version": "3.12.5"
  }
 },
 "nbformat": 4,
 "nbformat_minor": 5
}
